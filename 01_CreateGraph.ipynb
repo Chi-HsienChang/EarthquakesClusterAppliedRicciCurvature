{
  "cells": [
    {
      "cell_type": "code",
      "execution_count": 1,
      "metadata": {
        "colab": {
          "base_uri": "https://localhost:8080/",
          "height": 697
        },
        "id": "UgtcphR3IUik",
        "outputId": "8bacc4ff-c015-42ad-c0d7-cb5af5d97147"
      },
      "outputs": [
        {
          "output_type": "stream",
          "name": "stdout",
          "text": [
            "Looking in indexes: https://pypi.org/simple, https://us-python.pkg.dev/colab-wheels/public/simple/\n",
            "Requirement already satisfied: scikit-learn in /usr/local/lib/python3.7/dist-packages (1.0.2)\n",
            "Requirement already satisfied: scipy>=1.1.0 in /usr/local/lib/python3.7/dist-packages (from scikit-learn) (1.4.1)\n",
            "Requirement already satisfied: threadpoolctl>=2.0.0 in /usr/local/lib/python3.7/dist-packages (from scikit-learn) (3.1.0)\n",
            "Requirement already satisfied: joblib>=0.11 in /usr/local/lib/python3.7/dist-packages (from scikit-learn) (1.1.0)\n",
            "Requirement already satisfied: numpy>=1.14.6 in /usr/local/lib/python3.7/dist-packages (from scikit-learn) (1.21.6)\n",
            "Looking in indexes: https://pypi.org/simple, https://us-python.pkg.dev/colab-wheels/public/simple/\n",
            "Collecting obspy\n",
            "  Downloading obspy-1.3.0-cp37-cp37m-manylinux_2_17_x86_64.manylinux2014_x86_64.whl (14.3 MB)\n",
            "\u001b[K     |████████████████████████████████| 14.3 MB 4.3 MB/s \n",
            "\u001b[?25hRequirement already satisfied: sqlalchemy in /usr/local/lib/python3.7/dist-packages (from obspy) (1.4.36)\n",
            "Requirement already satisfied: scipy>=1.0.0 in /usr/local/lib/python3.7/dist-packages (from obspy) (1.4.1)\n",
            "Requirement already satisfied: lxml in /usr/local/lib/python3.7/dist-packages (from obspy) (4.2.6)\n",
            "Requirement already satisfied: numpy>=1.15.0 in /usr/local/lib/python3.7/dist-packages (from obspy) (1.21.6)\n",
            "Requirement already satisfied: requests in /usr/local/lib/python3.7/dist-packages (from obspy) (2.23.0)\n",
            "Requirement already satisfied: matplotlib>=3.2.0 in /usr/local/lib/python3.7/dist-packages (from obspy) (3.2.2)\n",
            "Requirement already satisfied: setuptools in /usr/local/lib/python3.7/dist-packages (from obspy) (57.4.0)\n",
            "Requirement already satisfied: decorator in /usr/local/lib/python3.7/dist-packages (from obspy) (4.4.2)\n",
            "Requirement already satisfied: python-dateutil>=2.1 in /usr/local/lib/python3.7/dist-packages (from matplotlib>=3.2.0->obspy) (2.8.2)\n",
            "Requirement already satisfied: pyparsing!=2.0.4,!=2.1.2,!=2.1.6,>=2.0.1 in /usr/local/lib/python3.7/dist-packages (from matplotlib>=3.2.0->obspy) (3.0.9)\n",
            "Requirement already satisfied: kiwisolver>=1.0.1 in /usr/local/lib/python3.7/dist-packages (from matplotlib>=3.2.0->obspy) (1.4.2)\n",
            "Requirement already satisfied: cycler>=0.10 in /usr/local/lib/python3.7/dist-packages (from matplotlib>=3.2.0->obspy) (0.11.0)\n",
            "Requirement already satisfied: typing-extensions in /usr/local/lib/python3.7/dist-packages (from kiwisolver>=1.0.1->matplotlib>=3.2.0->obspy) (4.2.0)\n",
            "Requirement already satisfied: six>=1.5 in /usr/local/lib/python3.7/dist-packages (from python-dateutil>=2.1->matplotlib>=3.2.0->obspy) (1.15.0)\n",
            "Requirement already satisfied: chardet<4,>=3.0.2 in /usr/local/lib/python3.7/dist-packages (from requests->obspy) (3.0.4)\n",
            "Requirement already satisfied: certifi>=2017.4.17 in /usr/local/lib/python3.7/dist-packages (from requests->obspy) (2022.5.18.1)\n",
            "Requirement already satisfied: idna<3,>=2.5 in /usr/local/lib/python3.7/dist-packages (from requests->obspy) (2.10)\n",
            "Requirement already satisfied: urllib3!=1.25.0,!=1.25.1,<1.26,>=1.21.1 in /usr/local/lib/python3.7/dist-packages (from requests->obspy) (1.24.3)\n",
            "Requirement already satisfied: importlib-metadata in /usr/local/lib/python3.7/dist-packages (from sqlalchemy->obspy) (4.11.4)\n",
            "Requirement already satisfied: greenlet!=0.4.17 in /usr/local/lib/python3.7/dist-packages (from sqlalchemy->obspy) (1.1.2)\n",
            "Requirement already satisfied: zipp>=0.5 in /usr/local/lib/python3.7/dist-packages (from importlib-metadata->sqlalchemy->obspy) (3.8.0)\n",
            "Installing collected packages: obspy\n",
            "Successfully installed obspy-1.3.0\n"
          ]
        },
        {
          "output_type": "display_data",
          "data": {
            "application/vnd.colab-display-data+json": {
              "pip_warning": {
                "packages": [
                  "signal"
                ]
              }
            }
          },
          "metadata": {}
        }
      ],
      "source": [
        "!pip install scikit-learn\n",
        "!pip install obspy\n"
      ],
      "id": "UgtcphR3IUik"
    },
    {
      "cell_type": "code",
      "execution_count": 3,
      "metadata": {
        "id": "900633ce-f03a-4f25-bda0-452a701d1d8d",
        "outputId": "42ddd913-8e4d-4734-c7f6-05bd90eb1d7f",
        "colab": {
          "base_uri": "https://localhost:8080/"
        }
      },
      "outputs": [
        {
          "output_type": "stream",
          "name": "stdout",
          "text": [
            "Mounted at /content/drive\n"
          ]
        }
      ],
      "source": [
        "import pandas as pd\n",
        "import matplotlib.pyplot as plt\n",
        "import matplotlib.colors as colors\n",
        "import numpy as np\n",
        "from datetime import datetime,timedelta\n",
        "import networkx as nx\n",
        "from obspy.geodetics.base import gps2dist_azimuth\n",
        "# to print logs in jupyter notebook\n",
        "import logging\n",
        "logging.basicConfig(format='%(levelname)s:%(message)s', level=logging.ERROR)\n",
        "\n",
        "\n",
        "# load python-louvain for modularity computation\n",
        "# import community as community_louvain\n",
        "from community import community_louvain\n",
        "# for ARI computation\n",
        "from sklearn import preprocessing, metrics\n",
        "from google.colab import drive\n",
        "drive.mount('/content/drive')\n"
      ],
      "id": "900633ce-f03a-4f25-bda0-452a701d1d8d"
    },
    {
      "cell_type": "code",
      "execution_count": 4,
      "metadata": {
        "id": "f4eabd2e-0f52-4392-9030-4b5d9ee2d73a"
      },
      "outputs": [],
      "source": [
        "df = pd.read_csv('drive/MyDrive/Final_project/Event.txt',sep='\\s+', names=['lon','lat','DecimalYear','Month','Day','Mag','Depth','hour','minute','second'])"
      ],
      "id": "f4eabd2e-0f52-4392-9030-4b5d9ee2d73a"
    },
    {
      "cell_type": "code",
      "execution_count": 5,
      "metadata": {
        "id": "Q99oJRjPIN8-"
      },
      "outputs": [],
      "source": [
        "def decimalYear2Datetime(time):\n",
        "    year = int(time)\n",
        "    rem = time - year\n",
        "    base = datetime(year, 1, 1)\n",
        "    result = base + timedelta(seconds=(base.replace(year=base.year + 1) - base).total_seconds() * rem)\n",
        "    return result\n",
        "def draw_graph(G):\n",
        "    pos = nx.spring_layout(G)\n",
        "    # colors = nx.get_node_attributes(G,'color').values()\n",
        "    colors = [node[1]['color'] for node in G.nodes(data=True)]\n",
        "    sizes  = [node[1]['size'] for node in G.nodes(data=True)]\n",
        "\n",
        "    # nx.draw_networkx_nodes(G, pos,colors=colors)\n",
        "    # nx.draw_networkx_labels(G, pos)\n",
        "    # nx.draw_networkx_edges(G, pos, width=1.0, alpha=0.5)\n",
        "    nx.draw(G, node_color=colors, node_size=sizes, alpha=0.8)#, with_labels=True\n",
        "\n",
        "\n"
      ],
      "id": "Q99oJRjPIN8-"
    },
    {
      "cell_type": "code",
      "execution_count": 6,
      "metadata": {
        "id": "ad3a6cc1"
      },
      "outputs": [],
      "source": [
        "def show_results(G):\n",
        "    # Print the first five results\n",
        "    print(\"Karate Club Graph, first 5 edges: \")\n",
        "    for n1,n2 in list(G.edges())[:5]:\n",
        "        print(\"Ollivier-Ricci curvature of edge (%s,%s) is %f\" % (n1 ,n2, G[n1][n2][\"ricciCurvature\"]))\n",
        "\n",
        "    # Plot the histogram of Ricci curvatures\n",
        "    plt.subplot(2, 1, 1)\n",
        "    ricci_curvtures = nx.get_edge_attributes(G, \"ricciCurvature\").values()\n",
        "    plt.hist(ricci_curvtures,bins=20)\n",
        "    plt.xlabel('Ricci curvature')\n",
        "    plt.title(\"Histogram of Ricci Curvatures\")\n",
        "\n",
        "    # Plot the histogram of edge weights\n",
        "    plt.subplot(2, 1, 2)\n",
        "    weights = nx.get_edge_attributes(G, \"weight\").values()\n",
        "    plt.hist(weights,bins=20)\n",
        "    plt.xlabel('Edge weight')\n",
        "    plt.title(\"Histogram of Edge weights\")\n",
        "\n",
        "    plt.tight_layout()\n"
      ],
      "id": "ad3a6cc1"
    },
    {
      "cell_type": "code",
      "execution_count": 7,
      "metadata": {
        "id": "bce6d735-494f-40d0-8f06-7134179da17b"
      },
      "outputs": [],
      "source": [
        "LON = df['lon'] ##longitude 經度\n",
        "LAT = df['lat'] ##latitude 緯度\n",
        "DEP = df['Depth'] ##深度\n",
        "MAG = df['Mag'] ##規模\n",
        "EventTime = df['DecimalYear']"
      ],
      "id": "bce6d735-494f-40d0-8f06-7134179da17b"
    },
    {
      "cell_type": "code",
      "source": [
        "G = nx.Graph()\n",
        "for i in range(len(df)):\n",
        "  time = decimalYear2Datetime(df['DecimalYear'].values[i])\n",
        "  mag = 2*np.exp(MAG.values[i])\n",
        "  color = sm.to_rgba(x=time.month)\n",
        "  G.add_node(i, color=color, size=mag,month=time.month)\n",
        "for i in range(len(df)-1):\n",
        "  lon = LON.values[i]\n",
        "  lat = LAT.values[i]\n",
        "  dep = DEP.values[i]\n",
        "  for ii in range(i+1,len(df)):\n",
        "    lon_ = LON.values[ii]\n",
        "    lat_ = LAT.values[ii]\n",
        "    dep_ = DEP.values[ii]\n",
        "    dist,az,baz = gps2dist_azimuth(lat_,lon_,lat,lon)\n",
        "    distance3D = np.sqrt( (dist/1000)**2 + (dep-dep_)**2 )\n",
        "    if distance3D <= 70: ## compare \n",
        "      weight = distance3D\n",
        "      G.add_edge(i,ii,weight=weight)\n",
        "print(f'Nodes: {G.number_of_nodes()}')\n",
        "print(f'Edge: {G.number_of_edges()}')\n",
        "# nx.write_gpickle(G, \"/content/drive/MyDrive/Final_project/Gtest7.gpickle\")"
      ],
      "metadata": {
        "colab": {
          "base_uri": "https://localhost:8080/"
        },
        "id": "gpQGbUiBdlDt",
        "outputId": "15dbd714-00ae-4e3a-94c7-db45cb8949e7"
      },
      "id": "gpQGbUiBdlDt",
      "execution_count": 11,
      "outputs": [
        {
          "output_type": "stream",
          "name": "stdout",
          "text": [
            "Nodes: 229\n",
            "Edge: 6021\n"
          ]
        }
      ]
    },
    {
      "cell_type": "code",
      "source": [
        "plt.figure(figsize=(8,8))\n",
        "draw_graph(G)"
      ],
      "metadata": {
        "colab": {
          "base_uri": "https://localhost:8080/",
          "height": 607
        },
        "id": "0x51UsxUfGns",
        "outputId": "648ea733-463d-4bcc-dbc8-17b4ae53ebbc"
      },
      "id": "0x51UsxUfGns",
      "execution_count": 12,
      "outputs": [
        {
          "output_type": "display_data",
          "data": {
            "text/plain": [
              "<Figure size 576x576 with 1 Axes>"
            ],
            "image/png": "[encoded data removed]"
          },
          "metadata": {}
        }
      ]
    },
    {
      "cell_type": "code",
      "source": [
        ""
      ],
      "metadata": {
        "id": "CZJmpjAsWz6G"
      },
      "id": "CZJmpjAsWz6G",
      "execution_count": null,
      "outputs": []
    }
  ],
  "metadata": {
    "colab": {
      "name": "01.3_CreateGraph.ipynb",
      "provenance": [],
      "collapsed_sections": []
    },
    "kernelspec": {
      "display_name": "Python 3 (ipykernel)",
      "language": "python",
      "name": "python3"
    },
    "language_info": {
      "codemirror_mode": {
        "name": "ipython",
        "version": 3
      },
      "file_extension": ".py",
      "mimetype": "text/x-python",
      "name": "python",
      "nbconvert_exporter": "python",
      "pygments_lexer": "ipython3",
      "version": "3.8.12"
    }
  },
  "nbformat": 4,
  "nbformat_minor": 5
}